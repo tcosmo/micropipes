{
 "cells": [
  {
   "cell_type": "code",
   "execution_count": 24,
   "metadata": {},
   "outputs": [],
   "source": [
    "import numpy as np\n",
    "from ipycanvas import Canvas\n",
    "import sys\n",
    "sys.path.append('/home/cosmo/Documents/projects/coreli')\n",
    "from coreli import *\n",
    "import copy"
   ]
  },
  {
   "cell_type": "code",
   "execution_count": 25,
   "metadata": {},
   "outputs": [],
   "source": [
    "def get_segments_initiaux(compact):\n",
    "    if len(compact) == 1:\n",
    "        return [[[0,0] for _ in range(compact[0]+1)]]\n",
    "    segments = [[[0,0]]*(e+1) for e in compact]\n",
    "    choice = [[1,1],[0,1]]\n",
    "    for seg in segments[::-1][:-1]:\n",
    "        for i in range(len(seg)):\n",
    "            seg[i] = choice[i%2]\n",
    "    segments[0][0] = segments[-1][-1]\n",
    "    o = 0\n",
    "    if segments[0][0] == [1,1]:\n",
    "        o = 1\n",
    "    for i in range(0,len(segments[0])-1):\n",
    "        segments[0][i+1] = choice[(i+o)%2] \n",
    "    return segments\n",
    "\n",
    "def deduce(south, east):\n",
    "    bit = 1-int(sum(east)%2 == south[0])\n",
    "    carry = int(bit + sum(east) >= 2)\n",
    "    return [bit, carry]\n",
    "\n",
    "def get_next_segments(segments):\n",
    "    if len(segments) == 1:\n",
    "        return segments\n",
    "    next_segments = copy.deepcopy(segments)\n",
    "    for i in range(len(segments)-1,0,-1):\n",
    "        seg = next_segments[i]\n",
    "        for j in range(len(seg)):\n",
    "            right_neigh = segments[i-1][-1]\n",
    "            if j != 0:\n",
    "                right_neigh = seg[j-1]\n",
    "            seg[j] = deduce(segments[i][j],right_neigh)\n",
    "    next_segments[0][0] = next_segments[-1][-1]\n",
    "    seg = next_segments[0]\n",
    "    for j in range(1,len(seg)):\n",
    "        seg[j] = deduce(segments[0][j],seg[j-1])\n",
    "    return next_segments\n",
    "\n",
    "def segments_to_letters(segments):\n",
    "    letters = ['B','A','C','D']\n",
    "    to_return = \"\"\n",
    "    for seg in segments:\n",
    "        for e in seg:\n",
    "            to_return += letters[2*e[0]+e[1]]\n",
    "    return to_return[::-1]\n",
    "\n",
    "def get_trace(compact):\n",
    "    init = get_segments_initiaux(compact)\n",
    "    trace = [init]\n",
    "    seen = {}\n",
    "    while not segments_to_letters(trace[-1]) in seen:\n",
    "        seen[segments_to_letters(trace[-1])] = True\n",
    "        trace.append(get_next_segments(trace[-1]))\n",
    "    return trace\n",
    "\n",
    "def get_trace_str(trace):\n",
    "    to_return = \"\"\n",
    "    i = 0\n",
    "    seen = {}\n",
    "    for segments in trace[::-1]:\n",
    "        to_add = segments_to_letters(segments)\n",
    "        if to_add in seen:\n",
    "            to_add += '*'\n",
    "        seen[to_add] = True\n",
    "        to_return += to_add\n",
    "        if i != len(trace)-1:\n",
    "            to_return += \"\\n\"\n",
    "        i += 1\n",
    "    return to_return"
   ]
  },
  {
   "cell_type": "code",
   "execution_count": 26,
   "metadata": {},
   "outputs": [],
   "source": [
    "from ipycanvas import Canvas"
   ]
  },
  {
   "cell_type": "code",
   "execution_count": 28,
   "metadata": {},
   "outputs": [],
   "source": [
    "t = get_trace((2,3,0,1,0))"
   ]
  },
  {
   "cell_type": "code",
   "execution_count": 61,
   "metadata": {},
   "outputs": [
    {
     "data": {
      "text/plain": [
       "6"
      ]
     },
     "execution_count": 61,
     "metadata": {},
     "output_type": "execute_result"
    }
   ],
   "source": [
    "sum((2,3,0,1,0))"
   ]
  },
  {
   "cell_type": "code",
   "execution_count": 86,
   "metadata": {},
   "outputs": [],
   "source": [
    "def get_s_of_trace(t):\n",
    "    s = []\n",
    "    for seg in t[0]:\n",
    "        s.append(len(seg)-1)\n",
    "    return CompactRep(tuple(s))"
   ]
  },
  {
   "cell_type": "code",
   "execution_count": 104,
   "metadata": {},
   "outputs": [],
   "source": [
    "def char_of_cell(elem):\n",
    "    c = '.' if elem[1] == 1 else ' '\n",
    "    b = str(elem[0])\n",
    "    return c+b\n",
    "\n",
    "def draw_trace(t):\n",
    "    cell_w, cell_h = 20, 20\n",
    "    s_t = get_s_of_trace(t)\n",
    "    n = s.norm\n",
    "    canvas = Canvas(width=800, height=n*cell_h)\n",
    "    canvas.font = '20px serif'\n",
    "    canvas.fill_style = 'white'\n",
    "    \n",
    "    for i in range(n):\n",
    "        segments = t[i]\n",
    "        x = 0\n",
    "        y = n*cell_h-i*cell_h\n",
    "        for j,seg in enumerate(segments):\n",
    "            for elem in seg[::-1]:\n",
    "                canvas.fill_text(char_of_cell(elem),x,y)\n",
    "                x += 2*cell_w\n",
    "                if i == 0:\n",
    "                    print(elem,x,y)\n",
    "            y -= cell_h\n",
    "        break\n",
    "            \n",
    "    \n",
    "    return canvas"
   ]
  },
  {
   "cell_type": "code",
   "execution_count": 92,
   "metadata": {},
   "outputs": [],
   "source": [
    "p = Parvec.get_random_parvec()[0]\n",
    "s = p.to_compact()"
   ]
  },
  {
   "cell_type": "code",
   "execution_count": 105,
   "metadata": {},
   "outputs": [
    {
     "name": "stdout",
     "output_type": "stream",
     "text": [
      "[1, 1] 40 200\n",
      "[1, 1] 80 180\n",
      "[0, 1] 120 180\n",
      "[1, 1] 160 180\n",
      "[0, 1] 200 180\n",
      "[1, 1] 240 180\n",
      "[0, 1] 280 180\n",
      "[1, 1] 320 180\n",
      "[0, 1] 360 180\n",
      "[1, 1] 400 180\n",
      "[1, 1] 440 160\n"
     ]
    },
    {
     "data": {
      "application/vnd.jupyter.widget-view+json": {
       "model_id": "8d54aadbb30f4c519aaa6234cdf868b5",
       "version_major": 2,
       "version_minor": 0
      },
      "text/plain": [
       "Canvas(height=200, width=800)"
      ]
     },
     "metadata": {},
     "output_type": "display_data"
    }
   ],
   "source": [
    "t = get_trace(s.compact)\n",
    "draw_trace(t)"
   ]
  },
  {
   "cell_type": "code",
   "execution_count": 94,
   "metadata": {},
   "outputs": [
    {
     "data": {
      "text/plain": [
       "[0, 8, 0]"
      ]
     },
     "execution_count": 94,
     "metadata": {},
     "output_type": "execute_result"
    }
   ],
   "source": [
    "s.compact"
   ]
  },
  {
   "cell_type": "code",
   "execution_count": 95,
   "metadata": {},
   "outputs": [
    {
     "data": {
      "text/plain": [
       "[[[1, 1]],\n",
       " [[1, 1], [0, 1], [1, 1], [0, 1], [1, 1], [0, 1], [1, 1], [0, 1], [1, 1]],\n",
       " [[1, 1]]]"
      ]
     },
     "execution_count": 95,
     "metadata": {},
     "output_type": "execute_result"
    }
   ],
   "source": [
    "get_segments_initiaux(s.compact)"
   ]
  },
  {
   "cell_type": "code",
   "execution_count": null,
   "metadata": {},
   "outputs": [],
   "source": []
  },
  {
   "cell_type": "code",
   "execution_count": null,
   "metadata": {},
   "outputs": [],
   "source": []
  },
  {
   "cell_type": "code",
   "execution_count": null,
   "metadata": {},
   "outputs": [],
   "source": []
  }
 ],
 "metadata": {
  "kernelspec": {
   "display_name": "Python 3",
   "language": "python",
   "name": "python3"
  },
  "language_info": {
   "codemirror_mode": {
    "name": "ipython",
    "version": 3
   },
   "file_extension": ".py",
   "mimetype": "text/x-python",
   "name": "python",
   "nbconvert_exporter": "python",
   "pygments_lexer": "ipython3",
   "version": "3.6.9"
  }
 },
 "nbformat": 4,
 "nbformat_minor": 4
}
