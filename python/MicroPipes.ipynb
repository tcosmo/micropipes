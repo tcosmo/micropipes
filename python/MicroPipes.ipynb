{
 "cells": [
  {
   "cell_type": "code",
   "execution_count": 1,
   "metadata": {},
   "outputs": [],
   "source": [
    "import numpy as np\n",
    "from ipycanvas import Canvas\n",
    "import sys\n",
    "sys.path.append('/home/cosmo/Documents/projects/coreli')\n",
    "from coreli import *\n",
    "import copy"
   ]
  },
  {
   "cell_type": "code",
   "execution_count": 55,
   "metadata": {},
   "outputs": [],
   "source": [
    "def get_segments_initiaux(compact):\n",
    "    if len(compact) == 1:\n",
    "        return [[[0,0] for _ in range(compact[0]+1)]]\n",
    "    segments = [[[0,0]]*(e+1) for e in compact]\n",
    "    choice = [[1,1],[0,1]]\n",
    "    for seg in segments[::-1][:-1]:\n",
    "        for i in range(len(seg)):\n",
    "            seg[i] = choice[i%2]\n",
    "    segments[0][0] = segments[-1][-1]\n",
    "    o = 0\n",
    "    if segments[0][0] == [1,1]:\n",
    "        o = 1\n",
    "    for i in range(0,len(segments[0])-1):\n",
    "        segments[0][i+1] = choice[(i+o)%2] \n",
    "    return segments\n",
    "\n",
    "def deduce(south, east):\n",
    "    bit = 1-int(sum(east)%2 == south[0])\n",
    "    carry = int(bit + sum(east) >= 2)\n",
    "    return [bit, carry]\n",
    "\n",
    "def get_next_segments(segments):\n",
    "    if len(segments) == 1:\n",
    "        return segments\n",
    "    next_segments = copy.deepcopy(segments)\n",
    "    for i in range(len(segments)-1,0,-1):\n",
    "        seg = next_segments[i]\n",
    "        for j in range(len(seg)):\n",
    "            right_neigh = segments[i-1][-1]\n",
    "            if j != 0:\n",
    "                right_neigh = seg[j-1]\n",
    "            seg[j] = deduce(segments[i][j],right_neigh)\n",
    "    next_segments[0][0] = next_segments[-1][-1]\n",
    "    seg = next_segments[0]\n",
    "    for j in range(1,len(seg)):\n",
    "        seg[j] = deduce(segments[0][j],seg[j-1])\n",
    "    return next_segments\n",
    "\n",
    "def segments_to_letters(segments):\n",
    "    letters = ['B','A','C','D']\n",
    "    to_return = \"\"\n",
    "    for seg in segments:\n",
    "        for e in seg:\n",
    "            to_return += letters[2*e[0]+e[1]]\n",
    "    return to_return[::-1]\n",
    "\n",
    "def get_trace(compact):\n",
    "    init = get_segments_initiaux(compact)\n",
    "    trace = [init]\n",
    "    for k in range(2):\n",
    "        seen = {}\n",
    "        while not segments_to_letters(trace[-1]) in seen:\n",
    "            seen[segments_to_letters(trace[-1])] = True\n",
    "            trace.append(get_next_segments(trace[-1]))\n",
    "    return trace\n",
    "\n",
    "def get_trace_str(trace):\n",
    "    to_return = \"\"\n",
    "    i = 0\n",
    "    seen = {}\n",
    "    for segments in trace[::-1]:\n",
    "        to_add = segments_to_letters(segments)\n",
    "        if to_add in seen:\n",
    "            to_add += '*'\n",
    "        seen[to_add] = True\n",
    "        to_return += to_add\n",
    "        if i != len(trace)-1:\n",
    "            to_return += \"\\n\"\n",
    "        i += 1\n",
    "    return to_return"
   ]
  },
  {
   "cell_type": "code",
   "execution_count": 26,
   "metadata": {},
   "outputs": [],
   "source": [
    "from ipycanvas import Canvas"
   ]
  },
  {
   "cell_type": "code",
   "execution_count": 28,
   "metadata": {},
   "outputs": [],
   "source": [
    "t = get_trace((2,3,0,1,0))"
   ]
  },
  {
   "cell_type": "code",
   "execution_count": 61,
   "metadata": {},
   "outputs": [
    {
     "data": {
      "text/plain": [
       "6"
      ]
     },
     "execution_count": 61,
     "metadata": {},
     "output_type": "execute_result"
    }
   ],
   "source": [
    "sum((2,3,0,1,0))"
   ]
  },
  {
   "cell_type": "code",
   "execution_count": 3,
   "metadata": {},
   "outputs": [],
   "source": [
    "def get_s_of_trace(t):\n",
    "    s = []\n",
    "    for seg in t[0]:\n",
    "        s.append(len(seg)-1)\n",
    "    return CompactRep(tuple(s))"
   ]
  },
  {
   "cell_type": "code",
   "execution_count": 4,
   "metadata": {},
   "outputs": [],
   "source": [
    "p = Parvec.get_random_parvec()[0]\n",
    "s = p.to_compact()"
   ]
  },
  {
   "cell_type": "code",
   "execution_count": 5,
   "metadata": {},
   "outputs": [],
   "source": [
    "def s_type(s):\n",
    "    return 2**(s.norm) >= 3**(s.span)"
   ]
  },
  {
   "cell_type": "code",
   "execution_count": 20,
   "metadata": {},
   "outputs": [],
   "source": [
    "def char_of_cell(elem):\n",
    "    c = '.' if elem[1] == 1 else ' '\n",
    "    b = str(elem[0])\n",
    "    return c+b\n",
    "\n",
    "def draw_trace(t, o_y = 0, o_x = 0):\n",
    "    cell_w, cell_h = 20, 20\n",
    "    s_t = get_s_of_trace(t)\n",
    "    n = len(t)\n",
    "    canvas = Canvas(width=4*n*cell_w+o_x*cell_w, height=(n+n//2+1+o_y)*cell_h)\n",
    "    canvas.font = '20px serif'\n",
    "    canvas.fill_style = 'white'\n",
    "    \n",
    "    for i in range(n):\n",
    "        segments = t[i]\n",
    "        x = 0\n",
    "        y = (n//2+n+1+o_y)*cell_h-i*cell_h\n",
    "        for j,seg in enumerate(segments[::-1]):\n",
    "            for elem in seg[::-1]:\n",
    "                canvas.fill_text(char_of_cell(elem),x,y)\n",
    "                x += 2*cell_w\n",
    "            y -= cell_h\n",
    "        \n",
    "            \n",
    "    \n",
    "    return canvas"
   ]
  },
  {
   "cell_type": "code",
   "execution_count": null,
   "metadata": {},
   "outputs": [],
   "source": []
  },
  {
   "cell_type": "code",
   "execution_count": 56,
   "metadata": {},
   "outputs": [],
   "source": [
    "s = (0,0,1,1)\n",
    "t = get_trace(s)"
   ]
  },
  {
   "cell_type": "code",
   "execution_count": 57,
   "metadata": {},
   "outputs": [
    {
     "data": {
      "text/plain": [
       "[[[[0, 1]], [[1, 1]], [[1, 1], [0, 1]], [[1, 1], [0, 1]]],\n",
       " [[[0, 0]], [[0, 0]], [[1, 1], [0, 1]], [[0, 0], [0, 0]]],\n",
       " [[[0, 1]], [[0, 0]], [[1, 0], [1, 1]], [[1, 1], [0, 1]]],\n",
       " [[[0, 1]], [[1, 1]], [[1, 0], [0, 0]], [[1, 1], [0, 1]]],\n",
       " [[[1, 1]], [[0, 0]], [[1, 1], [0, 1]], [[1, 0], [1, 1]]],\n",
       " [[[1, 0]], [[0, 1]], [[1, 0], [1, 1]], [[0, 0], [1, 0]]],\n",
       " [[[0, 0]], [[1, 1]], [[0, 0], [1, 0]], [[0, 1], [0, 0]]],\n",
       " [[[0, 1]], [[1, 0]], [[0, 1], [0, 0]], [[1, 1], [0, 1]]],\n",
       " [[[1, 1]], [[0, 0]], [[1, 1], [0, 1]], [[1, 0], [1, 1]]],\n",
       " [[[1, 0]], [[0, 1]], [[1, 0], [1, 1]], [[0, 0], [1, 0]]],\n",
       " [[[0, 0]], [[1, 1]], [[0, 0], [1, 0]], [[0, 1], [0, 0]]],\n",
       " [[[0, 1]], [[1, 0]], [[0, 1], [0, 0]], [[1, 1], [0, 1]]],\n",
       " [[[1, 1]], [[0, 0]], [[1, 1], [0, 1]], [[1, 0], [1, 1]]]]"
      ]
     },
     "execution_count": 57,
     "metadata": {},
     "output_type": "execute_result"
    }
   ],
   "source": [
    "t"
   ]
  },
  {
   "cell_type": "code",
   "execution_count": 58,
   "metadata": {},
   "outputs": [
    {
     "data": {
      "application/vnd.jupyter.widget-view+json": {
       "model_id": "b393a08f7cdd49a1be7ed2e98c7b778c",
       "version_major": 2,
       "version_minor": 0
      },
      "text/plain": [
       "Canvas(height=400, width=1040)"
      ]
     },
     "metadata": {},
     "output_type": "display_data"
    }
   ],
   "source": [
    "draw_trace(t)"
   ]
  },
  {
   "cell_type": "code",
   "execution_count": 59,
   "metadata": {},
   "outputs": [],
   "source": [
    "import numpy as np"
   ]
  },
  {
   "cell_type": "code",
   "execution_count": 60,
   "metadata": {},
   "outputs": [],
   "source": [
    "def get_color_mat(trace):\n",
    "    s_t = get_s_of_trace(t)\n",
    "    height = len(trace) + s_t.span\n",
    "    width = s_t.norm+1\n",
    "    parvec = s_t.to_parvec().parvec\n",
    "    parvec += [parvec[0]]\n",
    "    parvec = parvec[::-1]\n",
    "    mat = np.array([[0 for _ in range(width)] for _ in range(height)], dtype=np.int64)\n",
    "    \n",
    "    y = height-1 \n",
    "    x = 0\n",
    "    for segment in trace[0][::-1]:\n",
    "        for elem in segment[::-1]:\n",
    "            if sum(elem)%2 != parvec[x]:\n",
    "                mat[y,x] = 1\n",
    "            x += 1\n",
    "        y -= 1\n",
    "    y_start = height-2\n",
    "    for iter_ in trace[1:]:\n",
    "        x = 0\n",
    "        y = y_start\n",
    "        for segment in iter_[::-1]:\n",
    "            for elem in segment[::-1]:\n",
    "                mat[y,x] = (sum(elem)+mat[y+1,x])%2\n",
    "                x += 1\n",
    "            y -= 1\n",
    "\n",
    "        y_start -= 1\n",
    "    \n",
    "    return mat"
   ]
  },
  {
   "cell_type": "code",
   "execution_count": 61,
   "metadata": {},
   "outputs": [
    {
     "data": {
      "text/plain": [
       "<matplotlib.image.AxesImage at 0x7f649c532be0>"
      ]
     },
     "execution_count": 61,
     "metadata": {},
     "output_type": "execute_result"
    },
    {
     "data": {
      "image/png": "[encoded data removed]",
      "text/plain": [
       "<Figure size 288x768 with 1 Axes>"
      ]
     },
     "metadata": {
      "needs_background": "light"
     },
     "output_type": "display_data"
    }
   ],
   "source": [
    "mat = get_color_mat(t)\n",
    "plt.matshow(mat)"
   ]
  },
  {
   "cell_type": "code",
   "execution_count": 63,
   "metadata": {},
   "outputs": [
    {
     "ename": "IndexError",
     "evalue": "list index out of range",
     "output_type": "error",
     "traceback": [
      "\u001b[0;31m---------------------------------------------------------------------------\u001b[0m",
      "\u001b[0;31mIndexError\u001b[0m                                Traceback (most recent call last)",
      "\u001b[0;32m<ipython-input-63-ca8f6a9b1431>\u001b[0m in \u001b[0;36m<module>\u001b[0;34m\u001b[0m\n\u001b[0;32m----> 1\u001b[0;31m \u001b[0mmat\u001b[0m \u001b[0;34m=\u001b[0m \u001b[0mget_color_mat\u001b[0m\u001b[0;34m(\u001b[0m\u001b[0mget_trace\u001b[0m\u001b[0;34m(\u001b[0m\u001b[0;34m(\u001b[0m\u001b[0;36m0\u001b[0m\u001b[0;34m,\u001b[0m\u001b[0;36m2\u001b[0m\u001b[0;34m,\u001b[0m\u001b[0;36m1\u001b[0m\u001b[0;34m,\u001b[0m\u001b[0;36m0\u001b[0m\u001b[0;34m)\u001b[0m\u001b[0;34m)\u001b[0m\u001b[0;34m)\u001b[0m\u001b[0;34m\u001b[0m\u001b[0;34m\u001b[0m\u001b[0m\n\u001b[0m\u001b[1;32m      2\u001b[0m \u001b[0mplt\u001b[0m\u001b[0;34m.\u001b[0m\u001b[0mmatshow\u001b[0m\u001b[0;34m(\u001b[0m\u001b[0mmat\u001b[0m\u001b[0;34m)\u001b[0m\u001b[0;34m\u001b[0m\u001b[0;34m\u001b[0m\u001b[0m\n",
      "\u001b[0;32m<ipython-input-60-3681cea1e68c>\u001b[0m in \u001b[0;36mget_color_mat\u001b[0;34m(trace)\u001b[0m\n\u001b[1;32m     12\u001b[0m     \u001b[0;32mfor\u001b[0m \u001b[0msegment\u001b[0m \u001b[0;32min\u001b[0m \u001b[0mtrace\u001b[0m\u001b[0;34m[\u001b[0m\u001b[0;36m0\u001b[0m\u001b[0;34m]\u001b[0m\u001b[0;34m[\u001b[0m\u001b[0;34m:\u001b[0m\u001b[0;34m:\u001b[0m\u001b[0;34m-\u001b[0m\u001b[0;36m1\u001b[0m\u001b[0;34m]\u001b[0m\u001b[0;34m:\u001b[0m\u001b[0;34m\u001b[0m\u001b[0;34m\u001b[0m\u001b[0m\n\u001b[1;32m     13\u001b[0m         \u001b[0;32mfor\u001b[0m \u001b[0melem\u001b[0m \u001b[0;32min\u001b[0m \u001b[0msegment\u001b[0m\u001b[0;34m[\u001b[0m\u001b[0;34m:\u001b[0m\u001b[0;34m:\u001b[0m\u001b[0;34m-\u001b[0m\u001b[0;36m1\u001b[0m\u001b[0;34m]\u001b[0m\u001b[0;34m:\u001b[0m\u001b[0;34m\u001b[0m\u001b[0;34m\u001b[0m\u001b[0m\n\u001b[0;32m---> 14\u001b[0;31m             \u001b[0;32mif\u001b[0m \u001b[0msum\u001b[0m\u001b[0;34m(\u001b[0m\u001b[0melem\u001b[0m\u001b[0;34m)\u001b[0m\u001b[0;34m%\u001b[0m\u001b[0;36m2\u001b[0m \u001b[0;34m!=\u001b[0m \u001b[0mparvec\u001b[0m\u001b[0;34m[\u001b[0m\u001b[0mx\u001b[0m\u001b[0;34m]\u001b[0m\u001b[0;34m:\u001b[0m\u001b[0;34m\u001b[0m\u001b[0;34m\u001b[0m\u001b[0m\n\u001b[0m\u001b[1;32m     15\u001b[0m                 \u001b[0mmat\u001b[0m\u001b[0;34m[\u001b[0m\u001b[0my\u001b[0m\u001b[0;34m,\u001b[0m\u001b[0mx\u001b[0m\u001b[0;34m]\u001b[0m \u001b[0;34m=\u001b[0m \u001b[0;36m1\u001b[0m\u001b[0;34m\u001b[0m\u001b[0;34m\u001b[0m\u001b[0m\n\u001b[1;32m     16\u001b[0m             \u001b[0mx\u001b[0m \u001b[0;34m+=\u001b[0m \u001b[0;36m1\u001b[0m\u001b[0;34m\u001b[0m\u001b[0;34m\u001b[0m\u001b[0m\n",
      "\u001b[0;31mIndexError\u001b[0m: list index out of range"
     ]
    }
   ],
   "source": [
    "mat = get_color_mat(get_trace((0,2,1,0)))\n",
    "plt.matshow(mat)"
   ]
  },
  {
   "cell_type": "code",
   "execution_count": 53,
   "metadata": {},
   "outputs": [
    {
     "data": {
      "text/plain": [
       "array([[0, 0, 0, 0, 0, 0],\n",
       "       [0, 0, 0, 0, 1, 0],\n",
       "       [0, 0, 0, 0, 1, 1],\n",
       "       [0, 1, 1, 0, 0, 1],\n",
       "       [0, 0, 1, 1, 0, 0],\n",
       "       [1, 0, 0, 1, 1, 0],\n",
       "       [1, 1, 0, 0, 1, 1],\n",
       "       [0, 1, 1, 0, 1, 0],\n",
       "       [0, 0, 1, 1, 1, 0],\n",
       "       [1, 0, 1, 0, 1, 0],\n",
       "       [0, 0, 0, 0, 0, 0],\n",
       "       [0, 0, 0, 0, 0, 0]])"
      ]
     },
     "execution_count": 53,
     "metadata": {},
     "output_type": "execute_result"
    }
   ],
   "source": [
    "mat"
   ]
  },
  {
   "cell_type": "code",
   "execution_count": 45,
   "metadata": {},
   "outputs": [],
   "source": [
    "import matplotlib.pyplot as plt"
   ]
  },
  {
   "cell_type": "code",
   "execution_count": 37,
   "metadata": {},
   "outputs": [
    {
     "data": {
      "text/plain": [
       "[[1, 1], [0, 1]]"
      ]
     },
     "execution_count": 37,
     "metadata": {},
     "output_type": "execute_result"
    }
   ],
   "source": [
    "t[0][2]"
   ]
  },
  {
   "cell_type": "code",
   "execution_count": 34,
   "metadata": {},
   "outputs": [
    {
     "data": {
      "text/plain": [
       "[1, 1, 0, 1, 0]"
      ]
     },
     "execution_count": 34,
     "metadata": {},
     "output_type": "execute_result"
    }
   ],
   "source": [
    "get_s_of_trace(t).to_parvec().parvec"
   ]
  },
  {
   "cell_type": "code",
   "execution_count": null,
   "metadata": {},
   "outputs": [],
   "source": []
  }
 ],
 "metadata": {
  "kernelspec": {
   "display_name": "Python 3",
   "language": "python",
   "name": "python3"
  },
  "language_info": {
   "codemirror_mode": {
    "name": "ipython",
    "version": 3
   },
   "file_extension": ".py",
   "mimetype": "text/x-python",
   "name": "python",
   "nbconvert_exporter": "python",
   "pygments_lexer": "ipython3",
   "version": "3.6.9"
  }
 },
 "nbformat": 4,
 "nbformat_minor": 4
}
